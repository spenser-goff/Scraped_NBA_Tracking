{
 "cells": [
  {
   "cell_type": "code",
   "execution_count": 1,
   "id": "0a1ea1f6",
   "metadata": {},
   "outputs": [],
   "source": [
    "import pandas as pd\n",
    "import numpy as np\n",
    "from numpy.linalg import norm\n",
    "import os"
   ]
  },
  {
   "cell_type": "code",
   "execution_count": 2,
   "id": "a2c45d8a",
   "metadata": {},
   "outputs": [
    {
     "name": "stdout",
     "output_type": "stream",
     "text": [
      "C:\\Users\\spens\\Basketball\\NBA Tracking\\Tracking Data\\Playoffs\n"
     ]
    }
   ],
   "source": [
    "os.chdir('Tracking Data/Playoffs')\n",
    "print(os.getcwd())"
   ]
  },
  {
   "cell_type": "code",
   "execution_count": 3,
   "id": "a0666211",
   "metadata": {},
   "outputs": [],
   "source": [
    "def func(p1, p2):\n",
    "    p1 = np.squeeze(np.asarray(p1))    \n",
    "    p2 = np.squeeze(np.asarray(p2))\n",
    "    res = np.dot(p1, p2)/(norm(p1)*norm(p2))\n",
    "    return res"
   ]
  },
  {
   "cell_type": "code",
   "execution_count": 4,
   "id": "b2893e4f",
   "metadata": {},
   "outputs": [],
   "source": [
    "df_lst = []"
   ]
  },
  {
   "cell_type": "code",
   "execution_count": 5,
   "id": "8aa2b2cf",
   "metadata": {},
   "outputs": [
    {
     "name": "stdout",
     "output_type": "stream",
     "text": [
      "track_catch-shoot_playoff_szn.csv\n",
      "1481\n",
      "track_defensive-impact_playoff_szn.csv\n",
      "1481\n",
      "track_drives_playoff_szn.csv\n",
      "1481\n",
      "track_elbow-touch_playoff_szn.csv\n",
      "1481\n",
      "track_paint-touch_playoff_szn.csv\n",
      "1481\n",
      "track_passing_playoff_szn.csv\n",
      "1481\n",
      "track_pullup_playoff_szn.csv\n",
      "1481\n",
      "track_rebounding_playoff_szn.csv\n",
      "1481\n",
      "track_shooting-efficiency_playoff_szn.csv\n",
      "1481\n",
      "track_touches_playoff_szn.csv\n",
      "1481\n",
      "track_tracking-post-ups_playoff_szn.csv\n",
      "1481\n"
     ]
    }
   ],
   "source": [
    "for filename in os.scandir(os.getcwd()):\n",
    "    print(filename.name)\n",
    "    name = filename.name\n",
    "    if filename.is_file():\n",
    "        df = pd.read_csv(filename.path)\n",
    "        df = df.drop(columns=['Unnamed: 0'])\n",
    "        \n",
    "        print(len(df))\n",
    "        temp_tup = (df, name)\n",
    "        df_lst.append(temp_tup)"
   ]
  },
  {
   "cell_type": "code",
   "execution_count": 6,
   "id": "99fda332",
   "metadata": {},
   "outputs": [],
   "source": [
    "#Aggregate by player\n",
    "#Then compare using cosine similarity"
   ]
  },
  {
   "cell_type": "code",
   "execution_count": 7,
   "id": "6c93e11d",
   "metadata": {},
   "outputs": [],
   "source": [
    "def aggregate_players(df):\n",
    "    temp = df.groupby(by=['PLAYER']).median()\n",
    "    temp.sort_values(by=\"MIN\", ascending=False,inplace=True)\n",
    "    return temp"
   ]
  },
  {
   "cell_type": "code",
   "execution_count": 8,
   "id": "75868c96",
   "metadata": {},
   "outputs": [
    {
     "name": "stdout",
     "output_type": "stream",
     "text": [
      "track_catch-shoot_playoff_szn.csv\n",
      "track_defensive-impact_playoff_szn.csv\n",
      "track_drives_playoff_szn.csv\n",
      "track_elbow-touch_playoff_szn.csv\n",
      "track_paint-touch_playoff_szn.csv\n",
      "track_passing_playoff_szn.csv\n",
      "track_pullup_playoff_szn.csv\n",
      "track_rebounding_playoff_szn.csv\n",
      "track_shooting-efficiency_playoff_szn.csv\n",
      "track_touches_playoff_szn.csv\n",
      "track_tracking-post-ups_playoff_szn.csv\n"
     ]
    }
   ],
   "source": [
    "agg_df_lst = []\n",
    "for df, name in df_lst:\n",
    "    print(name)\n",
    "    agg_df = aggregate_players(df)\n",
    "    agg_df_lst.append((agg_df, name))"
   ]
  },
  {
   "cell_type": "code",
   "execution_count": 9,
   "id": "8b30066b",
   "metadata": {},
   "outputs": [
    {
     "name": "stdout",
     "output_type": "stream",
     "text": [
      "track_catch-shoot_playoff_szn.csv\n",
      "track_catch-shoot_playoff_szn_similarity.csv\n",
      "track_defensive-impact_playoff_szn.csv\n"
     ]
    },
    {
     "name": "stderr",
     "output_type": "stream",
     "text": [
      "C:\\Users\\spens\\AppData\\Local\\Temp/ipykernel_17592/273144422.py:17: RuntimeWarning: invalid value encountered in double_scalars\n",
      "  sim_matrix.iat[i, j] = np.dot(r1, r2)/(norm(r1)*norm(r2))\n"
     ]
    },
    {
     "name": "stdout",
     "output_type": "stream",
     "text": [
      "track_defensive-impact_playoff_szn_similarity.csv\n",
      "track_drives_playoff_szn.csv\n",
      "track_drives_playoff_szn_similarity.csv\n",
      "track_elbow-touch_playoff_szn.csv\n",
      "track_elbow-touch_playoff_szn_similarity.csv\n",
      "track_paint-touch_playoff_szn.csv\n",
      "track_paint-touch_playoff_szn_similarity.csv\n",
      "track_passing_playoff_szn.csv\n",
      "track_passing_playoff_szn_similarity.csv\n",
      "track_pullup_playoff_szn.csv\n",
      "track_pullup_playoff_szn_similarity.csv\n",
      "track_rebounding_playoff_szn.csv\n",
      "track_rebounding_playoff_szn_similarity.csv\n",
      "track_shooting-efficiency_playoff_szn.csv\n",
      "track_shooting-efficiency_playoff_szn_similarity.csv\n",
      "track_touches_playoff_szn.csv\n",
      "track_touches_playoff_szn_similarity.csv\n",
      "track_tracking-post-ups_playoff_szn.csv\n",
      "track_tracking-post-ups_playoff_szn_similarity.csv\n"
     ]
    }
   ],
   "source": [
    "sim_matr_lst = []\n",
    "for agg_df, name in agg_df_lst:\n",
    "    print(name)\n",
    "    players = list(agg_df.index.tolist())\n",
    "    length = len(players)\n",
    "    zeros = np.zeros((length, length))\n",
    "    sim_matrix = pd.DataFrame(zeros, columns=players)\n",
    "    temp = agg_df\n",
    "    temp = temp.reset_index(drop=True)\n",
    "    temp = temp.drop(columns=['GP', 'MIN'])\n",
    "    if 'catch-shoot' not in name:\n",
    "        temp = temp.drop(columns=['W', 'L'])\n",
    "    for i, r1 in temp.iterrows():\n",
    "    \n",
    "        for j, r2 in temp.iterrows():\n",
    "            if i != j:\n",
    "                sim_matrix.iat[i, j] = np.dot(r1, r2)/(norm(r1)*norm(r2))\n",
    "            else:\n",
    "                sim_matrix.iat[i, j] = 1\n",
    "    sim_matrix.index = players\n",
    "    t = name.split('.csv')\n",
    "    t = t[0]\n",
    "    t = t + \"_similarity.csv\"\n",
    "    print(t)\n",
    "    sim_matrix.to_csv(t)\n",
    "    sim_matr_lst.append((sim_matrix,t))\n",
    "    "
   ]
  },
  {
   "cell_type": "code",
   "execution_count": null,
   "id": "63cc47aa",
   "metadata": {},
   "outputs": [],
   "source": []
  }
 ],
 "metadata": {
  "kernelspec": {
   "display_name": "Python 3 (ipykernel)",
   "language": "python",
   "name": "python3"
  },
  "language_info": {
   "codemirror_mode": {
    "name": "ipython",
    "version": 3
   },
   "file_extension": ".py",
   "mimetype": "text/x-python",
   "name": "python",
   "nbconvert_exporter": "python",
   "pygments_lexer": "ipython3",
   "version": "3.8.8"
  }
 },
 "nbformat": 4,
 "nbformat_minor": 5
}

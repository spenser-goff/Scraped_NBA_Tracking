{
 "cells": [
  {
   "cell_type": "code",
   "execution_count": 1,
   "id": "300b7e52",
   "metadata": {},
   "outputs": [],
   "source": [
    "import pandas as pd\n",
    "import os"
   ]
  },
  {
   "cell_type": "code",
   "execution_count": 2,
   "id": "e2dc56fc",
   "metadata": {},
   "outputs": [],
   "source": [
    "def add_player_index(df, name: str):\n",
    "    players = list(df.columns.tolist())\n",
    "    df.index = players\n",
    "    #print(df.head(1))\n",
    "    df.to_csv(name)\n",
    "    return df"
   ]
  },
  {
   "cell_type": "code",
   "execution_count": 3,
   "id": "d1d8da44",
   "metadata": {},
   "outputs": [],
   "source": [
    "def add_reccomender_weights(df_lst: list):\n",
    "    shooting = ['track_catch-shoot_playoff_szn_similarity.csv', 'track_pullup_playoff_szn_similarity.csv', 'track_shooting-efficiency_playoff_szn_similarity.csv']\n",
    "    skills = ['track_passing_playoff_szn_similarity.csv', 'track_tracking-post-ups_playoff_szn_similarity.csv', 'track_drives_playoff_szn_similarity.csv', 'track_defensive-impact_playoff_szn_similarity.csv']\n",
    "    touches = ['track_elbow-touch_playoff_szn_similarity.csv', 'track_paint-touch_playoff_szn_similarity.csv', 'track_touches_playoff_szn_similarity.csv']\n",
    "\n",
    "    \n",
    "    \n",
    "    profile = []\n",
    "    for df, name in df_lst:\n",
    "        df = add_player_index(df, name)\n",
    "        if name in shooting:\n",
    "            t = 1.15 * df \n",
    "            profile.append((t, name))\n",
    "            #print(\"shooting\")\n",
    "            print(name)\n",
    "\n",
    "        elif name in skills:\n",
    "            t = 1.0 * df\n",
    "            profile.append((t,name))\n",
    "            #print(\"skills\")\n",
    "            print(name)\n",
    "\n",
    "        elif name in touches:\n",
    "            t = 0.85 * df\n",
    "            profile.append((t, name))\n",
    "            #print(\"touches\")\n",
    "            print(name)\n",
    "        print(\"::::::::::::::\")"
   ]
  },
  {
   "cell_type": "code",
   "execution_count": 4,
   "id": "b484f3b8",
   "metadata": {},
   "outputs": [],
   "source": [
    "def get_player_similarity(profile: list, player: str, ind1: int, ind2: int):\n",
    "    df1, n1 = profile[ind1]\n",
    "    print(n1)\n",
    "    t1 = df1[player].dropna()\n",
    "    t1.sort_values(ascending=False, inplace=True)\n",
    "    \n",
    "    df2, n2 = profile[ind2] \n",
    "    print(n2)\n",
    "    t2 = df2[player].dropna()\n",
    "    t2.sort_values(ascending=False, inplace=True)\n",
    "    \n",
    "    res = pd.merge(t1, t2, left_index=True, right_index=True)\n",
    "    \n",
    "    player_x = player + \"_x\"\n",
    "    player_y = player + \"_y\"\n",
    "    res['Combined Sim'] = (res[player_x] + res[player_y]) / 2\n",
    "    res.sort_values(by=\"Combined Sim\", ascending=False, inplace=True)\n",
    "    return res"
   ]
  },
  {
   "cell_type": "code",
   "execution_count": 5,
   "id": "efe7b721",
   "metadata": {},
   "outputs": [],
   "source": [
    "def main():\n",
    "    print(os.getcwd())\n",
    "    os.chdir('Similarity Data/Playoffs')\n",
    "    print(os.getcwd())\n",
    "    df_lst = []\n",
    "     \n",
    "    for filename in os.scandir(os.getcwd()):\n",
    "        print(filename.name)\n",
    "        name = filename.name\n",
    "        if filename.is_file():\n",
    "            df = pd.read_csv(filename.path)\n",
    "            df = df.drop(columns=['Unnamed: 0'])\n",
    "            print(len(df))\n",
    "            temp_tup = (df, name)\n",
    "            df_lst.append(temp_tup)\n",
    "    return df_lst"
   ]
  },
  {
   "cell_type": "code",
   "execution_count": 6,
   "id": "d966e90a",
   "metadata": {},
   "outputs": [
    {
     "data": {
      "text/plain": [
       "' TO DO \\n> Speed & Distance: drop distance metrics (highly correlated w/ minutes played)\\n'"
      ]
     },
     "execution_count": 6,
     "metadata": {},
     "output_type": "execute_result"
    }
   ],
   "source": [
    "''' TO DO \n",
    "> Speed & Distance: drop distance metrics (highly correlated w/ minutes played)\n",
    "'''"
   ]
  },
  {
   "cell_type": "code",
   "execution_count": 7,
   "id": "11495ace",
   "metadata": {
    "scrolled": true
   },
   "outputs": [
    {
     "name": "stdout",
     "output_type": "stream",
     "text": [
      "C:\\Users\\spens\\Basketball\\NBA Tracking\n",
      "C:\\Users\\spens\\Basketball\\NBA Tracking\\Similarity Data\\Playoffs\n",
      ".ipynb_checkpoints\n",
      "track_catch-shoot_playoff_szn_similarity.csv\n",
      "623\n",
      "track_defensive-impact_playoff_szn_similarity.csv\n",
      "623\n",
      "track_drives_playoff_szn_similarity.csv\n",
      "623\n",
      "track_elbow-touch_playoff_szn_similarity.csv\n",
      "623\n",
      "track_paint-touch_playoff_szn_similarity.csv\n",
      "623\n",
      "track_passing_playoff_szn_similarity.csv\n",
      "623\n",
      "track_pullup_playoff_szn_similarity.csv\n",
      "623\n",
      "track_rebounding_playoff_szn_similarity.csv\n",
      "623\n",
      "track_shooting-efficiency_playoff_szn_similarity.csv\n",
      "623\n",
      "track_touches_playoff_szn_similarity.csv\n",
      "623\n",
      "track_tracking-post-ups_playoff_szn_similarity.csv\n",
      "623\n"
     ]
    }
   ],
   "source": [
    "df_lst = main()"
   ]
  },
  {
   "cell_type": "code",
   "execution_count": 8,
   "id": "ef4106f6",
   "metadata": {},
   "outputs": [],
   "source": [
    "profile = []\n",
    "for df, name in df_lst:\n",
    "    df = add_player_index(df, name)\n",
    "    profile.append((df, name))"
   ]
  },
  {
   "cell_type": "code",
   "execution_count": 43,
   "id": "0d1201e3",
   "metadata": {},
   "outputs": [
    {
     "name": "stdout",
     "output_type": "stream",
     "text": [
      "track_pullup_playoff_szn_similarity.csv\n",
      "track_rebounding_playoff_szn_similarity.csv\n"
     ]
    }
   ],
   "source": [
    "df = get_player_similarity(profile, \"Kawhi Leonard\",6,7)"
   ]
  },
  {
   "cell_type": "code",
   "execution_count": 44,
   "id": "4abacfdf",
   "metadata": {},
   "outputs": [
    {
     "data": {
      "text/html": [
       "<div>\n",
       "<style scoped>\n",
       "    .dataframe tbody tr th:only-of-type {\n",
       "        vertical-align: middle;\n",
       "    }\n",
       "\n",
       "    .dataframe tbody tr th {\n",
       "        vertical-align: top;\n",
       "    }\n",
       "\n",
       "    .dataframe thead th {\n",
       "        text-align: right;\n",
       "    }\n",
       "</style>\n",
       "<table border=\"1\" class=\"dataframe\">\n",
       "  <thead>\n",
       "    <tr style=\"text-align: right;\">\n",
       "      <th></th>\n",
       "      <th>Kawhi Leonard_x</th>\n",
       "      <th>Kawhi Leonard_y</th>\n",
       "      <th>Combined Sim</th>\n",
       "    </tr>\n",
       "  </thead>\n",
       "  <tbody>\n",
       "    <tr>\n",
       "      <th>Kawhi Leonard</th>\n",
       "      <td>1.000000</td>\n",
       "      <td>1.000000</td>\n",
       "      <td>1.000000</td>\n",
       "    </tr>\n",
       "    <tr>\n",
       "      <th>Dwyane Wade</th>\n",
       "      <td>0.997632</td>\n",
       "      <td>0.999221</td>\n",
       "      <td>0.998426</td>\n",
       "    </tr>\n",
       "    <tr>\n",
       "      <th>Carmelo Anthony</th>\n",
       "      <td>0.998499</td>\n",
       "      <td>0.997921</td>\n",
       "      <td>0.998210</td>\n",
       "    </tr>\n",
       "    <tr>\n",
       "      <th>Nicolas Batum</th>\n",
       "      <td>0.997647</td>\n",
       "      <td>0.997535</td>\n",
       "      <td>0.997591</td>\n",
       "    </tr>\n",
       "    <tr>\n",
       "      <th>LeBron James</th>\n",
       "      <td>0.996753</td>\n",
       "      <td>0.998150</td>\n",
       "      <td>0.997452</td>\n",
       "    </tr>\n",
       "    <tr>\n",
       "      <th>Jaylen Brown</th>\n",
       "      <td>0.994333</td>\n",
       "      <td>0.999333</td>\n",
       "      <td>0.996833</td>\n",
       "    </tr>\n",
       "    <tr>\n",
       "      <th>Jabari Parker</th>\n",
       "      <td>0.994109</td>\n",
       "      <td>0.999252</td>\n",
       "      <td>0.996681</td>\n",
       "    </tr>\n",
       "    <tr>\n",
       "      <th>T.J. Warren</th>\n",
       "      <td>0.996479</td>\n",
       "      <td>0.996861</td>\n",
       "      <td>0.996670</td>\n",
       "    </tr>\n",
       "    <tr>\n",
       "      <th>Kevin Durant</th>\n",
       "      <td>0.999627</td>\n",
       "      <td>0.993392</td>\n",
       "      <td>0.996509</td>\n",
       "    </tr>\n",
       "    <tr>\n",
       "      <th>Alec Burks</th>\n",
       "      <td>0.996146</td>\n",
       "      <td>0.996743</td>\n",
       "      <td>0.996444</td>\n",
       "    </tr>\n",
       "    <tr>\n",
       "      <th>Russell Westbrook</th>\n",
       "      <td>0.994979</td>\n",
       "      <td>0.997784</td>\n",
       "      <td>0.996381</td>\n",
       "    </tr>\n",
       "    <tr>\n",
       "      <th>Aaron Gordon</th>\n",
       "      <td>0.993103</td>\n",
       "      <td>0.999279</td>\n",
       "      <td>0.996191</td>\n",
       "    </tr>\n",
       "    <tr>\n",
       "      <th>Eric Bledsoe</th>\n",
       "      <td>0.997700</td>\n",
       "      <td>0.994519</td>\n",
       "      <td>0.996109</td>\n",
       "    </tr>\n",
       "    <tr>\n",
       "      <th>Paul George</th>\n",
       "      <td>0.993054</td>\n",
       "      <td>0.998612</td>\n",
       "      <td>0.995833</td>\n",
       "    </tr>\n",
       "    <tr>\n",
       "      <th>Joe Johnson</th>\n",
       "      <td>0.996797</td>\n",
       "      <td>0.994868</td>\n",
       "      <td>0.995833</td>\n",
       "    </tr>\n",
       "    <tr>\n",
       "      <th>Donovan Mitchell</th>\n",
       "      <td>0.991786</td>\n",
       "      <td>0.999196</td>\n",
       "      <td>0.995491</td>\n",
       "    </tr>\n",
       "    <tr>\n",
       "      <th>Dirk Nowitzki</th>\n",
       "      <td>0.996544</td>\n",
       "      <td>0.994043</td>\n",
       "      <td>0.995293</td>\n",
       "    </tr>\n",
       "    <tr>\n",
       "      <th>Chandler Parsons</th>\n",
       "      <td>0.993616</td>\n",
       "      <td>0.996905</td>\n",
       "      <td>0.995261</td>\n",
       "    </tr>\n",
       "    <tr>\n",
       "      <th>Malcolm Brogdon</th>\n",
       "      <td>0.994296</td>\n",
       "      <td>0.996106</td>\n",
       "      <td>0.995201</td>\n",
       "    </tr>\n",
       "    <tr>\n",
       "      <th>Danilo Gallinari</th>\n",
       "      <td>0.990295</td>\n",
       "      <td>0.999478</td>\n",
       "      <td>0.994887</td>\n",
       "    </tr>\n",
       "  </tbody>\n",
       "</table>\n",
       "</div>"
      ],
      "text/plain": [
       "                   Kawhi Leonard_x  Kawhi Leonard_y  Combined Sim\n",
       "Kawhi Leonard             1.000000         1.000000      1.000000\n",
       "Dwyane Wade               0.997632         0.999221      0.998426\n",
       "Carmelo Anthony           0.998499         0.997921      0.998210\n",
       "Nicolas Batum             0.997647         0.997535      0.997591\n",
       "LeBron James              0.996753         0.998150      0.997452\n",
       "Jaylen Brown              0.994333         0.999333      0.996833\n",
       "Jabari Parker             0.994109         0.999252      0.996681\n",
       "T.J. Warren               0.996479         0.996861      0.996670\n",
       "Kevin Durant              0.999627         0.993392      0.996509\n",
       "Alec Burks                0.996146         0.996743      0.996444\n",
       "Russell Westbrook         0.994979         0.997784      0.996381\n",
       "Aaron Gordon              0.993103         0.999279      0.996191\n",
       "Eric Bledsoe              0.997700         0.994519      0.996109\n",
       "Paul George               0.993054         0.998612      0.995833\n",
       "Joe Johnson               0.996797         0.994868      0.995833\n",
       "Donovan Mitchell          0.991786         0.999196      0.995491\n",
       "Dirk Nowitzki             0.996544         0.994043      0.995293\n",
       "Chandler Parsons          0.993616         0.996905      0.995261\n",
       "Malcolm Brogdon           0.994296         0.996106      0.995201\n",
       "Danilo Gallinari          0.990295         0.999478      0.994887"
      ]
     },
     "execution_count": 44,
     "metadata": {},
     "output_type": "execute_result"
    }
   ],
   "source": [
    "df.head(20)"
   ]
  },
  {
   "cell_type": "code",
   "execution_count": null,
   "id": "c7a2be91",
   "metadata": {},
   "outputs": [],
   "source": []
  },
  {
   "cell_type": "code",
   "execution_count": null,
   "id": "c137713b",
   "metadata": {},
   "outputs": [],
   "source": []
  }
 ],
 "metadata": {
  "kernelspec": {
   "display_name": "Python 3 (ipykernel)",
   "language": "python",
   "name": "python3"
  },
  "language_info": {
   "codemirror_mode": {
    "name": "ipython",
    "version": 3
   },
   "file_extension": ".py",
   "mimetype": "text/x-python",
   "name": "python",
   "nbconvert_exporter": "python",
   "pygments_lexer": "ipython3",
   "version": "3.8.8"
  }
 },
 "nbformat": 4,
 "nbformat_minor": 5
}

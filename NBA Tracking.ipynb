{
 "cells": [
  {
   "cell_type": "code",
   "execution_count": 78,
   "id": "4a7c1ae8",
   "metadata": {},
   "outputs": [],
   "source": [
    "from selenium import webdriver\n",
    "from selenium.webdriver.common.by import By\n",
    "from selenium.webdriver.support.ui import Select\n",
    "from selenium.webdriver.support.ui import WebDriverWait\n",
    "from selenium.webdriver.support import expected_conditions as EC\n",
    "import time\n",
    "import pandas as pd"
   ]
  },
  {
   "cell_type": "code",
   "execution_count": 79,
   "id": "83b9d6bd",
   "metadata": {},
   "outputs": [],
   "source": [
    "def scrape_tracking(url, years, metric):\n",
    "    driver = webdriver.Firefox(executable_path=r\"C:\\Users\\spens\\Basketball\\geckodriver.exe\")\n",
    "    col_names = []\n",
    "    row_entries = []\n",
    "    for year in years:\n",
    "        print(year)\n",
    "       # print(url.format(metric, year))\n",
    "        driver.get(url.format(metric, year))\n",
    "        time.sleep(10)\n",
    "        try:\n",
    "            WebDriverWait(driver, 2).until(EC.presence_of_element_located((By.ID,\"onetrust-accept-btn-handler\")))\n",
    "            driver.find_element(By.XPATH, '//*[@id=\"onetrust-accept-btn-handler\"]').click()\n",
    "        except:\n",
    "            print()\n",
    "        time.sleep(10)\n",
    "       # path = \"/html/body/main/div/div/div[2]/div/div/nba-stat-table/div[2]/div[1]/div/table/thead/tr/th[{}]\"\n",
    "       # path = path.format(n)\n",
    "       # driver.find_element_by_xpath(path).click()\n",
    "        \n",
    "        res = Select(driver.find_element(By.XPATH, '/html/body/main/div/div/div[2]/div/div/nba-stat-table/div[1]/div/div/select'))\n",
    "        res.select_by_visible_text('All')\n",
    "       \n",
    "        th_elements = driver.find_elements(By.XPATH, '/html/body/main/div/div/div[2]/div/div/nba-stat-table/div[2]/div[1]/div/table/thead/tr/th')\n",
    "        #print(type(th_elements))\n",
    "        #print(len(th_elements))\n",
    "        time.sleep(2)\n",
    "        cols = []\n",
    "        for elt in th_elements:\n",
    "            cols.append(str(elt.text))\n",
    "        tr_elements = driver.find_elements(By.XPATH, '/html/body/main/div/div/div[2]/div/div/nba-stat-table/div[2]/div[1]/div/table/tbody/tr')\n",
    "        #print(type(tr_elements))\n",
    "        #print(len(tr_elements))\n",
    "        #time.sleep(0.5)\n",
    "        rows = []\n",
    "        for elt in tr_elements:\n",
    "            row = str(elt.text)\n",
    "            row = row.split('\\n')\n",
    "            stats = row[1].split(' ')\n",
    "            lst = [row[0]] + stats\n",
    "            rows.append(lst)\n",
    "        col_names.append(cols)\n",
    "        row_entries.append(rows)\n",
    "    driver.quit()\n",
    "    return col_names, row_entries"
   ]
  },
  {
   "cell_type": "code",
   "execution_count": 80,
   "id": "a1dead2b",
   "metadata": {},
   "outputs": [],
   "source": [
    "def clean_tracking(col_names, row_entries, years):\n",
    "    #print(col_names)\n",
    "    every_szn = []\n",
    "    for i in range(len(years)):\n",
    "        temp_col = col_names[i]\n",
    "        #print(len(temp_col))\n",
    "        temp_col = [x for x in temp_col if x != \"\"]\n",
    "        #print(len(temp_col))\n",
    "        temp_row = row_entries[i]\n",
    "        year = years[i]\n",
    "        temp_col.append('Year')\n",
    "        df = pd.DataFrame(columns=temp_col)\n",
    "        #print(df)\n",
    "        for r in temp_row:\n",
    "            #print(r)\n",
    "            r.append(year)\n",
    "            #df.loc[-1] = r\n",
    "            #df.index = df.index + 1\n",
    "            #df = df.sort_index()\n",
    "            df = df.append(pd.Series(r, index=df.columns[:len(r)]), ignore_index=True)\n",
    "        #print(df)\n",
    "        every_szn.append(df)\n",
    "    master = pd.concat(every_szn)\n",
    "    return master"
   ]
  },
  {
   "cell_type": "code",
   "execution_count": 81,
   "id": "1db80f2b",
   "metadata": {},
   "outputs": [],
   "source": [
    "track_pages = [\"defensive-impact\",\"drives\",\"catch-shoot\",\"passing\",\"touches\",\"pullup\",\"rebounding\",\"shooting-efficiency\",\"speed-distance\",\"elbow-touch\",\"tracking-post-ups\",\"paint-touch\"]\n",
    "url = 'https://www.nba.com/stats/players/{}/?Season={}&SeasonType=Playoffs'\n",
    "years = ['2013-14', '2014-15', '2015-16', '2016-17', '2017-18', '2018-19', '2019-20']\n",
    "#years= ['2013-14']"
   ]
  },
  {
   "cell_type": "code",
   "execution_count": null,
   "id": "5bdc4a05",
   "metadata": {},
   "outputs": [],
   "source": []
  },
  {
   "cell_type": "code",
   "execution_count": 82,
   "id": "e255d336",
   "metadata": {
    "scrolled": true
   },
   "outputs": [
    {
     "name": "stdout",
     "output_type": "stream",
     "text": [
      "paint-touch\n"
     ]
    },
    {
     "name": "stderr",
     "output_type": "stream",
     "text": [
      "C:\\Users\\spens\\AppData\\Local\\Temp/ipykernel_21020/2306852913.py:2: DeprecationWarning: executable_path has been deprecated, please pass in a Service object\n",
      "  driver = webdriver.Firefox(executable_path=r\"C:\\Users\\spens\\Basketball\\geckodriver.exe\")\n"
     ]
    },
    {
     "name": "stdout",
     "output_type": "stream",
     "text": [
      "2013-14\n",
      "2014-15\n",
      "\n",
      "2015-16\n",
      "\n",
      "2016-17\n",
      "\n",
      "2017-18\n",
      "\n",
      "2018-19\n",
      "\n",
      "2019-20\n",
      "\n",
      "\n"
     ]
    }
   ],
   "source": [
    "df_lst = []\n",
    "for metric in track_pages[11:12]:\n",
    "    print(metric)\n",
    "    cols, rows = scrape_tracking(url, years, metric)\n",
    "    df = clean_tracking(cols, rows, years)\n",
    "    metric_col = [str(metric) for i in range(len(df))]\n",
    "    df['Metric'] = metric_col\n",
    "    df_lst.append(df)\n",
    "    print()"
   ]
  },
  {
   "cell_type": "code",
   "execution_count": 83,
   "id": "d66fa161",
   "metadata": {},
   "outputs": [],
   "source": [
    "for df in df_lst:\n",
    "    #print(df.dtypes)\n",
    "    cols = df.columns.drop(['PLAYER', 'TEAM', 'Year', 'Metric'])\n",
    "    df[cols] = df[cols].apply(pd.to_numeric, errors=\"coerce\")\n",
    "    df = df.loc[df['GP'] > 50]"
   ]
  },
  {
   "cell_type": "code",
   "execution_count": 84,
   "id": "8e292a37",
   "metadata": {},
   "outputs": [],
   "source": [
    "df_lst[0].to_csv(r\"C:\\Users\\spens\\Basketball\\NBA Tracking\\Tracking Data\\track_paint-touch_playoff_szn.csv\")"
   ]
  },
  {
   "cell_type": "code",
   "execution_count": null,
   "id": "f9c3a6aa",
   "metadata": {},
   "outputs": [],
   "source": []
  }
 ],
 "metadata": {
  "kernelspec": {
   "display_name": "Python 3 (ipykernel)",
   "language": "python",
   "name": "python3"
  },
  "language_info": {
   "codemirror_mode": {
    "name": "ipython",
    "version": 3
   },
   "file_extension": ".py",
   "mimetype": "text/x-python",
   "name": "python",
   "nbconvert_exporter": "python",
   "pygments_lexer": "ipython3",
   "version": "3.8.8"
  }
 },
 "nbformat": 4,
 "nbformat_minor": 5
}
